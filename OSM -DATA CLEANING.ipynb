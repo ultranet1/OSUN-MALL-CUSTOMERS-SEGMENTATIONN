{
 "cells": [
  {
   "cell_type": "markdown",
   "metadata": {},
   "source": [
    "# OSMALL- DATA CLEANING"
   ]
  },
  {
   "cell_type": "code",
   "execution_count": 11,
   "metadata": {},
   "outputs": [],
   "source": [
    "import numpy as np\n",
    "import pandas as pd\n",
    "import matplotlib.pyplot as plt\n",
    "import matplotlib.ticker as ticker\n",
    "import seaborn as sns\n",
    "%matplotlib inline"
   ]
  },
  {
   "cell_type": "code",
   "execution_count": 12,
   "metadata": {},
   "outputs": [
    {
     "name": "stdout",
     "output_type": "stream",
     "text": [
      "     CustomerID  Gender   Age  Monthly Income per thousand (Naira)  \\\n",
      "0           1.0    Male  19.0                                   15   \n",
      "1           2.0    Male  21.0                                   15   \n",
      "2           3.0  Female  20.0                                   16   \n",
      "3           4.0  Female  23.0                                   16   \n",
      "4           5.0  Female  31.0                                   17   \n",
      "..          ...     ...   ...                                  ...   \n",
      "196       197.0  Female  45.0                                  126   \n",
      "197       198.0    Male  32.0                                  126   \n",
      "198       199.0    Male  32.0                                  137   \n",
      "199       200.0    Male  30.0                                  137   \n",
      "200         NaN     NaN   NaN                                12112   \n",
      "\n",
      "     Spending Score (1-100)  \n",
      "0                      39.0  \n",
      "1                      81.0  \n",
      "2                       6.0  \n",
      "3                      77.0  \n",
      "4                      40.0  \n",
      "..                      ...  \n",
      "196                    28.0  \n",
      "197                    74.0  \n",
      "198                    18.0  \n",
      "199                    83.0  \n",
      "200                     NaN  \n",
      "\n",
      "[201 rows x 5 columns]\n"
     ]
    }
   ],
   "source": [
    "data=pd.read_csv('/storage/emulated/0/Android/data/ru.iiec.pydroid3/files/Osun Mall_Customers .csv')\n",
    "print(data)"
   ]
  },
  {
   "cell_type": "code",
   "execution_count": 13,
   "metadata": {},
   "outputs": [
    {
     "name": "stdout",
     "output_type": "stream",
     "text": [
      "<class 'pandas.core.frame.DataFrame'>\n",
      "RangeIndex: 201 entries, 0 to 200\n",
      "Data columns (total 5 columns):\n",
      " #   Column                               Non-Null Count  Dtype  \n",
      "---  ------                               --------------  -----  \n",
      " 0   CustomerID                           200 non-null    float64\n",
      " 1   Gender                               200 non-null    object \n",
      " 2   Age                                  200 non-null    float64\n",
      " 3   Monthly Income per thousand (Naira)  201 non-null    int64  \n",
      " 4   Spending Score (1-100)               200 non-null    float64\n",
      "dtypes: float64(3), int64(1), object(1)\n",
      "memory usage: 8.0+ KB\n",
      "None\n"
     ]
    }
   ],
   "source": [
    "print(data.info())"
   ]
  },
  {
   "cell_type": "code",
   "execution_count": 14,
   "metadata": {},
   "outputs": [
    {
     "name": "stdout",
     "output_type": "stream",
     "text": [
      "CustomerID                             1\n",
      "Gender                                 1\n",
      "Age                                    1\n",
      "Monthly Income per thousand (Naira)    0\n",
      "Spending Score (1-100)                 1\n",
      "dtype: int64\n"
     ]
    }
   ],
   "source": [
    "print(data.isnull().sum())"
   ]
  },
  {
   "cell_type": "code",
   "execution_count": 15,
   "metadata": {},
   "outputs": [
    {
     "name": "stdout",
     "output_type": "stream",
     "text": [
      "     CustomerID  Gender   Age  Monthly Income per thousand (Naira)  \\\n",
      "0           1.0    Male  19.0                                   15   \n",
      "1           2.0    Male  21.0                                   15   \n",
      "2           3.0  Female  20.0                                   16   \n",
      "3           4.0  Female  23.0                                   16   \n",
      "4           5.0  Female  31.0                                   17   \n",
      "..          ...     ...   ...                                  ...   \n",
      "195       196.0  Female  35.0                                  120   \n",
      "196       197.0  Female  45.0                                  126   \n",
      "197       198.0    Male  32.0                                  126   \n",
      "198       199.0    Male  32.0                                  137   \n",
      "199       200.0    Male  30.0                                  137   \n",
      "\n",
      "     Spending Score (1-100)  \n",
      "0                      39.0  \n",
      "1                      81.0  \n",
      "2                       6.0  \n",
      "3                      77.0  \n",
      "4                      40.0  \n",
      "..                      ...  \n",
      "195                    79.0  \n",
      "196                    28.0  \n",
      "197                    74.0  \n",
      "198                    18.0  \n",
      "199                    83.0  \n",
      "\n",
      "[200 rows x 5 columns]\n"
     ]
    }
   ],
   "source": [
    "print(data.dropna())\n",
    "data=data.dropna()\n"
   ]
  },
  {
   "cell_type": "markdown",
   "metadata": {},
   "source": [
    "# Label Encoding\n",
    "(with mapping method)"
   ]
  },
  {
   "cell_type": "code",
   "execution_count": 16,
   "metadata": {},
   "outputs": [
    {
     "name": "stdout",
     "output_type": "stream",
     "text": [
      "0      0\n",
      "1      0\n",
      "2      1\n",
      "3      1\n",
      "4      1\n",
      "      ..\n",
      "195    1\n",
      "196    1\n",
      "197    0\n",
      "198    0\n",
      "199    0\n",
      "Name: Gender, Length: 200, dtype: int64\n"
     ]
    }
   ],
   "source": [
    "data['Gender']=data['Gender'].map({'Male':0, 'Female':1})\n",
    "print(data['Gender'])"
   ]
  },
  {
   "cell_type": "code",
   "execution_count": 17,
   "metadata": {},
   "outputs": [],
   "source": [
    "sav=data.to_csv(r'/storage/emulated/0/Android/data/ru.iiec.pydroid3/files/OSM DC.csv')\n",
    "   \n",
    "              "
   ]
  },
  {
   "cell_type": "code",
   "execution_count": null,
   "metadata": {},
   "outputs": [],
   "source": []
  }
 ],
 "metadata": {
  "kernelspec": {
   "display_name": "Python 3",
   "language": "python",
   "name": "python3"
  },
  "language_info": {
   "codemirror_mode": {
    "name": "ipython",
    "version": 3
   },
   "file_extension": ".py",
   "mimetype": "text/x-python",
   "name": "python",
   "nbconvert_exporter": "python",
   "pygments_lexer": "ipython3",
   "version": "3.8.3"
  }
 },
 "nbformat": 4,
 "nbformat_minor": 4
}
