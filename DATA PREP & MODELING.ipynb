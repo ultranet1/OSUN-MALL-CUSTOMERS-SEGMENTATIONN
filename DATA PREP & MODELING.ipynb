{
 "cells": [
  {
   "cell_type": "markdown",
   "metadata": {},
   "source": [
    "# DATA PREPROCESSING & MODELING"
   ]
  },
  {
   "cell_type": "code",
   "execution_count": 63,
   "metadata": {},
   "outputs": [],
   "source": [
    "import numpy as np\n",
    "import pandas as pd\n",
    "import matplotlib.pyplot as plt\n",
    "import seaborn as sns\n",
    "%matplotlib inline"
   ]
  },
  {
   "cell_type": "code",
   "execution_count": 64,
   "metadata": {},
   "outputs": [
    {
     "name": "stdout",
     "output_type": "stream",
     "text": [
      "     Unnamed: 0  CustomerID  Gender   Age  \\\n",
      "0             0         1.0       0  19.0   \n",
      "1             1         2.0       0  21.0   \n",
      "2             2         3.0       1  20.0   \n",
      "3             3         4.0       1  23.0   \n",
      "4             4         5.0       1  31.0   \n",
      "..          ...         ...     ...   ...   \n",
      "195         195       196.0       1  35.0   \n",
      "196         196       197.0       1  45.0   \n",
      "197         197       198.0       0  32.0   \n",
      "198         198       199.0       0  32.0   \n",
      "199         199       200.0       0  30.0   \n",
      "\n",
      "     Monthly Income per thousand (Naira)  Spending Score (1-100)  \n",
      "0                                     15                    39.0  \n",
      "1                                     15                    81.0  \n",
      "2                                     16                     6.0  \n",
      "3                                     16                    77.0  \n",
      "4                                     17                    40.0  \n",
      "..                                   ...                     ...  \n",
      "195                                  120                    79.0  \n",
      "196                                  126                    28.0  \n",
      "197                                  126                    74.0  \n",
      "198                                  137                    18.0  \n",
      "199                                  137                    83.0  \n",
      "\n",
      "[200 rows x 6 columns]\n",
      "     CustomerID  Gender   Age  Monthly Income per thousand (Naira)  \\\n",
      "0           1.0       0  19.0                                   15   \n",
      "1           2.0       0  21.0                                   15   \n",
      "2           3.0       1  20.0                                   16   \n",
      "3           4.0       1  23.0                                   16   \n",
      "4           5.0       1  31.0                                   17   \n",
      "..          ...     ...   ...                                  ...   \n",
      "195       196.0       1  35.0                                  120   \n",
      "196       197.0       1  45.0                                  126   \n",
      "197       198.0       0  32.0                                  126   \n",
      "198       199.0       0  32.0                                  137   \n",
      "199       200.0       0  30.0                                  137   \n",
      "\n",
      "     Spending Score (1-100)  \n",
      "0                      39.0  \n",
      "1                      81.0  \n",
      "2                       6.0  \n",
      "3                      77.0  \n",
      "4                      40.0  \n",
      "..                      ...  \n",
      "195                    79.0  \n",
      "196                    28.0  \n",
      "197                    74.0  \n",
      "198                    18.0  \n",
      "199                    83.0  \n",
      "\n",
      "[200 rows x 5 columns]\n"
     ]
    }
   ],
   "source": [
    "data=pd.read_csv('/storage/emulated/0/Android/data/ru.iiec.pydroid3/files/OSM EDA.csv')\n",
    "print(data)\n",
    "data=data.drop('Unnamed: 0', axis=1)\n",
    "print(data)"
   ]
  },
  {
   "cell_type": "code",
   "execution_count": 65,
   "metadata": {
    "scrolled": true
   },
   "outputs": [
    {
     "name": "stdout",
     "output_type": "stream",
     "text": [
      "     CustomerID  Gender       Age  Monthly Income per thousand (Naira)  \\\n",
      "0           1.0     0.0  0.019231                             0.000000   \n",
      "1           2.0     0.0  0.057692                             0.000000   \n",
      "2           3.0     1.0  0.038462                             0.008197   \n",
      "3           4.0     1.0  0.096154                             0.008197   \n",
      "4           5.0     1.0  0.250000                             0.016393   \n",
      "..          ...     ...       ...                                  ...   \n",
      "195       196.0     1.0  0.326923                             0.860656   \n",
      "196       197.0     1.0  0.519231                             0.909836   \n",
      "197       198.0     0.0  0.269231                             0.909836   \n",
      "198       199.0     0.0  0.269231                             1.000000   \n",
      "199       200.0     0.0  0.230769                             1.000000   \n",
      "\n",
      "     Spending Score (1-100)  \n",
      "0                  0.387755  \n",
      "1                  0.816327  \n",
      "2                  0.051020  \n",
      "3                  0.775510  \n",
      "4                  0.397959  \n",
      "..                      ...  \n",
      "195                0.795918  \n",
      "196                0.275510  \n",
      "197                0.744898  \n",
      "198                0.173469  \n",
      "199                0.836735  \n",
      "\n",
      "[200 rows x 5 columns]\n"
     ]
    }
   ],
   "source": [
    "from sklearn import preprocessing as pps\n",
    "import numpy as np\n",
    "scale_d=pps.MinMaxScaler(feature_range=(0,1))\n",
    "data1=np.array(data['Gender'])\n",
    "data2=np.array(data['Age'])\n",
    "data3=np.array(data['Monthly Income per thousand (Naira)'])\n",
    "data4=np.array(data['Spending Score (1-100)'])\n",
    "\n",
    "\n",
    "sc_d1=scale_d.fit_transform(data1.reshape(200,1))\n",
    "sc_d2=scale_d.fit_transform(data2.reshape(200,1))\n",
    "sc_d3=scale_d.fit_transform(data3.reshape(200,1))\n",
    "sc_d4=scale_d.fit_transform(data4.reshape(200,1))\n",
    "\n",
    "\n",
    "data['Gender']= sc_d1\n",
    "data['Age']= sc_d2\n",
    "data['Monthly Income per thousand (Naira)']= sc_d3\n",
    "data['Spending Score (1-100)']= sc_d4\n",
    "\n",
    "\n",
    "\n",
    "print(data)\n"
   ]
  },
  {
   "cell_type": "code",
   "execution_count": 66,
   "metadata": {
    "scrolled": true
   },
   "outputs": [
    {
     "name": "stdout",
     "output_type": "stream",
     "text": [
      "     CustomerID    Gender       Age  Monthly Income per thousand (Naira)  \\\n",
      "0           1.0 -1.128152 -1.424569                            -1.738999   \n",
      "1           2.0 -1.128152 -1.281035                            -1.738999   \n",
      "2           3.0  0.886405 -1.352802                            -1.700830   \n",
      "3           4.0  0.886405 -1.137502                            -1.700830   \n",
      "4           5.0  0.886405 -0.563369                            -1.662660   \n",
      "..          ...       ...       ...                                  ...   \n",
      "195       196.0  0.886405 -0.276302                             2.268791   \n",
      "196       197.0  0.886405  0.441365                             2.497807   \n",
      "197       198.0 -1.128152 -0.491602                             2.497807   \n",
      "198       199.0 -1.128152 -0.491602                             2.917671   \n",
      "199       200.0 -1.128152 -0.635135                             2.917671   \n",
      "\n",
      "     Spending Score (1-100)  \n",
      "0                 -0.434801  \n",
      "1                  1.195704  \n",
      "2                 -1.715913  \n",
      "3                  1.040418  \n",
      "4                 -0.395980  \n",
      "..                      ...  \n",
      "195                1.118061  \n",
      "196               -0.861839  \n",
      "197                0.923953  \n",
      "198               -1.250054  \n",
      "199                1.273347  \n",
      "\n",
      "[200 rows x 5 columns]\n"
     ]
    }
   ],
   "source": [
    "from sklearn import preprocessing as pps\n",
    "\n",
    "std_d1=pps.StandardScaler().fit_transform(sc_d1)\n",
    "std_d2=pps.StandardScaler().fit_transform(sc_d2)\n",
    "std_d3=pps.StandardScaler().fit_transform(sc_d3)\n",
    "std_d4=pps.StandardScaler().fit_transform(sc_d4)\n",
    "\n",
    "\n",
    "data['Gender']= std_d1\n",
    "data['Age']= std_d2\n",
    "data['Monthly Income per thousand (Naira)']= std_d3\n",
    "data['Spending Score (1-100)']= std_d4\n",
    "\n",
    "\n",
    "print(data)\n",
    "\n",
    "\n",
    "\n"
   ]
  },
  {
   "cell_type": "code",
   "execution_count": 67,
   "metadata": {},
   "outputs": [
    {
     "name": "stdout",
     "output_type": "stream",
     "text": [
      "kn2 is 167319.91408313357\n",
      "kn3 is 74701.90563027878\n",
      "kn4 is 42363.709533917325\n",
      "kn5 is 27251.976860783558\n",
      "kn6 is 19182.85584326248\n",
      "kn7 is 14236.378813398112\n",
      "   Id\n",
      "0   1\n",
      "1   2\n",
      "2   3\n",
      "3   4\n",
      "4   5\n",
      "5   6\n",
      "   Id  clusters        inertia\n",
      "0   1         2  167319.914083\n",
      "1   2         3   74701.905630\n",
      "2   3         4   42363.709534\n",
      "3   4         5   27251.976861\n",
      "4   5         6   19182.855843\n",
      "5   6         7   14236.378813\n"
     ]
    },
    {
     "data": {
      "text/plain": [
       "<matplotlib.axes._subplots.AxesSubplot at 0x7dbfa18160>"
      ]
     },
     "execution_count": 67,
     "metadata": {},
     "output_type": "execute_result"
    },
    {
     "data": {
      "image/png": "[encoded data removed]",
      "text/plain": [
       "<Figure size 432x288 with 1 Axes>"
      ]
     },
     "metadata": {
      "needs_background": "light"
     },
     "output_type": "display_data"
    }
   ],
   "source": [
    "from sklearn.cluster import KMeans\n",
    "\n",
    "\n",
    "km= KMeans(n_clusters=2)\n",
    "km.fit(data)\n",
    "kn2=km.inertia_\n",
    "print ('kn2 is',kn2)\n",
    "km3= KMeans(n_clusters=3)\n",
    "km3.fit(data)\n",
    "kn3=km3.inertia_\n",
    "print('kn3 is', kn3)\n",
    "km4= KMeans(n_clusters=4)\n",
    "km4.fit(data)\n",
    "kn4=km4.inertia_\n",
    "print('kn4 is', kn4)\n",
    "km5= KMeans(n_clusters=5)\n",
    "km5.fit(data)\n",
    "kn5=km5.inertia_\n",
    "print('kn5 is', kn5)\n",
    "km6= KMeans(n_clusters=6)\n",
    "km6.fit(data)\n",
    "kn6=km6.inertia_ \n",
    "print('kn6 is', kn6)\n",
    "km7= KMeans(n_clusters=7)\n",
    "km7.fit(data)\n",
    "kn7=km7.inertia_\n",
    "print('kn7 is', kn7)\n",
    " \n",
    "clusters=[2,3,4,5,6,7]\n",
    "inerti=[kn2,kn3,kn4,kn5,kn6,kn7]\n",
    "\n",
    "inertia={'Id': [1,2,3,4,5,6,]}\n",
    "inertia1=pd.DataFrame(inertia)\n",
    "print(inertia1)\n",
    "\n",
    "inertia1['clusters']=clusters\n",
    "inertia1['inertia']=inerti\n",
    "print (inertia1)\n",
    "\n",
    "\n",
    "sns.lineplot(x='clusters', y='inertia', data=inertia1)\n",
    "      "
   ]
  },
  {
   "cell_type": "markdown",
   "metadata": {},
   "source": [
    "The least slope is 5, suitable for the elbow method."
   ]
  },
  {
   "cell_type": "code",
   "execution_count": 68,
   "metadata": {},
   "outputs": [
    {
     "name": "stdout",
     "output_type": "stream",
     "text": [
      "     Spending Score (1-100)  Monthly Income per thousand (Naira)\n",
      "0                 -0.434801                            -1.738999\n",
      "1                  1.195704                            -1.738999\n",
      "2                 -1.715913                            -1.700830\n",
      "3                  1.040418                            -1.700830\n",
      "4                 -0.395980                            -1.662660\n",
      "..                      ...                                  ...\n",
      "195                1.118061                             2.268791\n",
      "196               -0.861839                             2.497807\n",
      "197                0.923953                             2.497807\n",
      "198               -1.250054                             2.917671\n",
      "199                1.273347                             2.917671\n",
      "\n",
      "[200 rows x 2 columns]\n",
      "[0 0 3 0 2 2 0 3 4 2 1 3 4 0 0 0 1 4 2 0 0 3 3 0 4 2 3 3 1 4 0 1 2 1 2 0 2\n",
      " 0 0 2]\n",
      "[3 4 3 4 3 4 3 4 3 4 3 4 3 4 3 4 3 4 3 4 3 4 3 4 3 4 3 4 3 4 3 4 3 4 3 4 3\n",
      " 4 3 4 0 4 0 0 3 4 0 0 0 0 0 0 0 0 0 0 0 0 0 0 0 0 0 0 0 0 0 0 0 0 0 0 0 0\n",
      " 0 0 0 0 0 0 0 0 0 0 0 0 0 0 0 0 0 0 0 0 0 0 0 0 0 0 0 0 0 0 0 0 0 0 0 0 0\n",
      " 0 0 0 0 0 0 0 0 0 0 0 0 1 2 1 2 1 2 1 2 1 2 1 2 1 2 1 2 1 2 1 2 1 2 1 2 1\n",
      " 2 1 2 1 2 1 2 1 2 1 2 1 2 1 2 1 2 1 2 1 2 1 2 1 2 1 2 1 2 1 2 1 2 1 2 1 2\n",
      " 1 2 1 2 1 2 1 2 1 2 1 2 1 2 1]\n"
     ]
    }
   ],
   "source": [
    "from sklearn.model_selection import train_test_split\n",
    "x=data[['Spending Score (1-100)', 'Monthly Income per thousand (Naira)']]\n",
    "X_train, X_test=train_test_split(x,train_size=0.8, random_state=1)\n",
    "print(x)\n",
    "k_opt=5\n",
    "kmeans=KMeans(k_opt)\n",
    "kmeans.fit(X_train)\n",
    "y_pred=kmeans.predict(X_test)\n",
    "print(y_pred)\n",
    "\n",
    "kmeans1=KMeans(k_opt)\n",
    "kmeans1.fit(x)\n",
    "y=kmeans.predict(x)\n",
    "print(y)\n"
   ]
  },
  {
   "cell_type": "code",
   "execution_count": 73,
   "metadata": {
    "scrolled": true
   },
   "outputs": [
    {
     "data": {
      "image/png": "[encoded data removed]",
      "text/plain": [
       "<Figure size 432x288 with 1 Axes>"
      ]
     },
     "metadata": {
      "needs_background": "light"
     },
     "output_type": "display_data"
    }
   ],
   "source": [
    "scale_sp=pps.MinMaxScaler(feature_range=(1,100))\n",
    "scale_mit=pps.MinMaxScaler(feature_range=(15,137))\n",
    "\n",
    "arr1=np.array(data['Spending Score (1-100)'])\n",
    "arr2=np.array(data['Monthly Income per thousand (Naira)'])\n",
    "\n",
    "data['Spending Score (1-100)']=scale_sp.fit_transform(arr1.reshape(200,1))\n",
    "data['Monthly Income per thousand (Naira)']=scale_mit.fit_transform(arr2.reshape(200,1))\n",
    "                                                      \n",
    "\n",
    "cl=sns.scatterplot(y=data['Spending Score (1-100)'], x=data['Monthly Income per thousand (Naira)'], hue=y)"
   ]
  },
  {
   "cell_type": "markdown",
   "metadata": {},
   "source": [
    "# Insights\n",
    "The customers are categorized into 5 clusters\n",
    "Group 0 are average earners & spenders(middle class)\n",
    "Group 1 are High earners and High spenders (Rich spenders)\n",
    "Group 2 are High Earners but low spenders (stingy Rich)\n",
    "Group 3 are Low earners & spenders (dead broke)\n",
    "Group 4 are Low earners but High speanders (broke spenders)\n",
    "\n",
    "# The marketing strategy should be targeted at Group 0,1&4\n"
   ]
  },
  {
   "cell_type": "code",
   "execution_count": null,
   "metadata": {},
   "outputs": [],
   "source": []
  },
  {
   "cell_type": "code",
   "execution_count": null,
   "metadata": {},
   "outputs": [],
   "source": []
  }
 ],
 "metadata": {
  "kernelspec": {
   "display_name": "Python 3",
   "language": "python",
   "name": "python3"
  },
  "language_info": {
   "codemirror_mode": {
    "name": "ipython",
    "version": 3
   },
   "file_extension": ".py",
   "mimetype": "text/x-python",
   "name": "python",
   "nbconvert_exporter": "python",
   "pygments_lexer": "ipython3",
   "version": "3.8.3"
  }
 },
 "nbformat": 4,
 "nbformat_minor": 4
}
